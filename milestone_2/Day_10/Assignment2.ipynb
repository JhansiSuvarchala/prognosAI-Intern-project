{
  "nbformat": 4,
  "nbformat_minor": 0,
  "metadata": {
    "colab": {
      "provenance": [],
      "toc_visible": true
    },
    "kernelspec": {
      "name": "python3",
      "display_name": "Python 3"
    },
    "language_info": {
      "name": "python"
    }
  },
  "cells": [
    {
      "cell_type": "code",
      "execution_count": 1,
      "metadata": {
        "colab": {
          "base_uri": "https://localhost:8080/"
        },
        "id": "2cG3_qxzuNUS",
        "outputId": "f6d6f8e6-e18b-4b8d-ccbd-5e9ed1f3b572"
      },
      "outputs": [
        {
          "output_type": "stream",
          "name": "stdout",
          "text": [
            "Drive already mounted at /content/drive; to attempt to forcibly remount, call drive.mount(\"/content/drive\", force_remount=True).\n"
          ]
        }
      ],
      "source": [
        "from google.colab import drive\n",
        "drive.mount('/content/drive')"
      ]
    },
    {
      "cell_type": "markdown",
      "source": [
        "#1. Imports necessary libraries"
      ],
      "metadata": {
        "id": "vYAPgJWKzjxH"
      }
    },
    {
      "cell_type": "code",
      "source": [
        "## Import Necessary Libraries\n",
        "import pandas as pd\n",
        "import numpy as np\n",
        "from sklearn.model_selection import train_test_split\n",
        "import tensorflow as tf\n",
        "from tensorflow.keras import regularizers\n",
        "from tensorflow.keras.models import Sequential\n",
        "from tensorflow.keras.layers import Input, LSTM, Dense, Dropout, Bidirectional, Layer\n",
        "from tensorflow.keras.optimizers import Adam, RMSprop\n",
        "from tensorflow.keras.callbacks import EarlyStopping, ReduceLROnPlateau, ModelCheckpoint\n",
        "import matplotlib.pyplot as plt\n",
        "import seaborn as sns"
      ],
      "metadata": {
        "id": "SCz2E1ArwbQC"
      },
      "execution_count": 2,
      "outputs": []
    },
    {
      "cell_type": "markdown",
      "source": [
        "#2. Data Loading"
      ],
      "metadata": {
        "id": "PEjHV5UnztgG"
      }
    },
    {
      "cell_type": "code",
      "source": [
        "## Data loading\n",
        "## Load feature sequences (rolling windows)\n",
        "X = np.load(\"/content/drive/MyDrive/data/datasave/rolling_window_sequences.npy\")\n",
        "\n",
        "# Load metadata (engine_id, cycle, RUL, etc.)\n",
        "metadata = pd.read_csv(\"/content/drive/MyDrive/data/datasave/sequence_metadata_with_RUL.csv\")\n",
        "y = metadata[\"RUL\"].values\n",
        "\n",
        "# Checking array shapes\n",
        "print(\"Shape of X:\", X.shape)\n",
        "print(\"Shape of y:\", y.shape)"
      ],
      "metadata": {
        "colab": {
          "base_uri": "https://localhost:8080/"
        },
        "id": "ru8D7xfFyncx",
        "outputId": "38b3dc71-583c-42f2-e19b-22d9485ff56f"
      },
      "execution_count": 3,
      "outputs": [
        {
          "output_type": "stream",
          "name": "stdout",
          "text": [
            "Shape of X: (17631, 30, 66)\n",
            "Shape of y: (17631,)\n"
          ]
        }
      ]
    },
    {
      "cell_type": "markdown",
      "source": [
        "#3. Train/Validation Split"
      ],
      "metadata": {
        "id": "q66Qtfx6zz4n"
      }
    },
    {
      "cell_type": "code",
      "source": [
        "# Split into training and validation sets\n",
        "X_train, X_val, y_train, y_val = train_test_split(\n",
        "    X, y, random_state=42, test_size=0.2\n",
        ")\n",
        "# dataset shapes\n",
        "print(\"Training set:\", X_train.shape, y_train.shape)\n",
        "print(\"Validation set:\", X_val.shape, y_val.shape)\n",
        "\n",
        "# Display samples\n",
        "print(\"Shape of one training sample:\", X_train[0].shape)\n",
        "print(\"Sample RUL values:\", y_train[:5])\n"
      ],
      "metadata": {
        "colab": {
          "base_uri": "https://localhost:8080/"
        },
        "id": "HPIIakxOzXKo",
        "outputId": "5c16ee2f-6d4b-41a0-9893-51d0d3ed65ef"
      },
      "execution_count": 4,
      "outputs": [
        {
          "output_type": "stream",
          "name": "stdout",
          "text": [
            "Training set: (14104, 30, 66) (14104,)\n",
            "Validation set: (3527, 30, 66) (3527,)\n",
            "Shape of one training sample: (30, 66)\n",
            "Sample RUL values: [ 74.  41.  43.  33. 101.]\n"
          ]
        }
      ]
    },
    {
      "cell_type": "markdown",
      "source": [
        "#4. Define Model Architectures"
      ],
      "metadata": {
        "id": "zoGCyfe00n93"
      }
    },
    {
      "cell_type": "code",
      "source": [
        "model = Sequential([\n",
        "    LSTM(\n",
        "        64,\n",
        "        activation=\"tanh\",\n",
        "        input_shape=(X.shape[1], X.shape[2]),\n",
        "        return_sequences=False\n",
        "    ), Dense(1)\n",
        "])"
      ],
      "metadata": {
        "colab": {
          "base_uri": "https://localhost:8080/"
        },
        "id": "hqBwrASl0vOX",
        "outputId": "42bd8194-42d9-4e0c-dd24-5badbfb12498"
      },
      "execution_count": 5,
      "outputs": [
        {
          "output_type": "stream",
          "name": "stderr",
          "text": [
            "/usr/local/lib/python3.12/dist-packages/keras/src/layers/rnn/rnn.py:199: UserWarning: Do not pass an `input_shape`/`input_dim` argument to a layer. When using Sequential models, prefer using an `Input(shape)` object as the first layer in the model instead.\n",
            "  super().__init__(**kwargs)\n"
          ]
        }
      ]
    },
    {
      "cell_type": "markdown",
      "source": [
        "#5. Instantiate and compile models"
      ],
      "metadata": {
        "id": "6nHgezLB1n9-"
      }
    },
    {
      "cell_type": "code",
      "source": [
        "# Compiling and Summary\n",
        "model.compile(optimizer=tf.keras.optimizers.Adam(0.001), loss='mse')\n",
        "model.summary()"
      ],
      "metadata": {
        "colab": {
          "base_uri": "https://localhost:8080/",
          "height": 195
        },
        "id": "8cSi_8e_1kCt",
        "outputId": "0d6b45df-c94b-46e7-c004-63652577d87d"
      },
      "execution_count": 6,
      "outputs": [
        {
          "output_type": "display_data",
          "data": {
            "text/plain": [
              "\u001b[1mModel: \"sequential\"\u001b[0m\n"
            ],
            "text/html": [
              "<pre style=\"white-space:pre;overflow-x:auto;line-height:normal;font-family:Menlo,'DejaVu Sans Mono',consolas,'Courier New',monospace\"><span style=\"font-weight: bold\">Model: \"sequential\"</span>\n",
              "</pre>\n"
            ]
          },
          "metadata": {}
        },
        {
          "output_type": "display_data",
          "data": {
            "text/plain": [
              "┏━━━━━━━━━━━━━━━━━━━━━━━━━━━━━━━━━┳━━━━━━━━━━━━━━━━━━━━━━━━┳━━━━━━━━━━━━━━━┓\n",
              "┃\u001b[1m \u001b[0m\u001b[1mLayer (type)                   \u001b[0m\u001b[1m \u001b[0m┃\u001b[1m \u001b[0m\u001b[1mOutput Shape          \u001b[0m\u001b[1m \u001b[0m┃\u001b[1m \u001b[0m\u001b[1m      Param #\u001b[0m\u001b[1m \u001b[0m┃\n",
              "┡━━━━━━━━━━━━━━━━━━━━━━━━━━━━━━━━━╇━━━━━━━━━━━━━━━━━━━━━━━━╇━━━━━━━━━━━━━━━┩\n",
              "│ lstm (\u001b[38;5;33mLSTM\u001b[0m)                     │ (\u001b[38;5;45mNone\u001b[0m, \u001b[38;5;34m64\u001b[0m)             │        \u001b[38;5;34m33,536\u001b[0m │\n",
              "├─────────────────────────────────┼────────────────────────┼───────────────┤\n",
              "│ dense (\u001b[38;5;33mDense\u001b[0m)                   │ (\u001b[38;5;45mNone\u001b[0m, \u001b[38;5;34m1\u001b[0m)              │            \u001b[38;5;34m65\u001b[0m │\n",
              "└─────────────────────────────────┴────────────────────────┴───────────────┘\n"
            ],
            "text/html": [
              "<pre style=\"white-space:pre;overflow-x:auto;line-height:normal;font-family:Menlo,'DejaVu Sans Mono',consolas,'Courier New',monospace\">┏━━━━━━━━━━━━━━━━━━━━━━━━━━━━━━━━━┳━━━━━━━━━━━━━━━━━━━━━━━━┳━━━━━━━━━━━━━━━┓\n",
              "┃<span style=\"font-weight: bold\"> Layer (type)                    </span>┃<span style=\"font-weight: bold\"> Output Shape           </span>┃<span style=\"font-weight: bold\">       Param # </span>┃\n",
              "┡━━━━━━━━━━━━━━━━━━━━━━━━━━━━━━━━━╇━━━━━━━━━━━━━━━━━━━━━━━━╇━━━━━━━━━━━━━━━┩\n",
              "│ lstm (<span style=\"color: #0087ff; text-decoration-color: #0087ff\">LSTM</span>)                     │ (<span style=\"color: #00d7ff; text-decoration-color: #00d7ff\">None</span>, <span style=\"color: #00af00; text-decoration-color: #00af00\">64</span>)             │        <span style=\"color: #00af00; text-decoration-color: #00af00\">33,536</span> │\n",
              "├─────────────────────────────────┼────────────────────────┼───────────────┤\n",
              "│ dense (<span style=\"color: #0087ff; text-decoration-color: #0087ff\">Dense</span>)                   │ (<span style=\"color: #00d7ff; text-decoration-color: #00d7ff\">None</span>, <span style=\"color: #00af00; text-decoration-color: #00af00\">1</span>)              │            <span style=\"color: #00af00; text-decoration-color: #00af00\">65</span> │\n",
              "└─────────────────────────────────┴────────────────────────┴───────────────┘\n",
              "</pre>\n"
            ]
          },
          "metadata": {}
        },
        {
          "output_type": "display_data",
          "data": {
            "text/plain": [
              "\u001b[1m Total params: \u001b[0m\u001b[38;5;34m33,601\u001b[0m (131.25 KB)\n"
            ],
            "text/html": [
              "<pre style=\"white-space:pre;overflow-x:auto;line-height:normal;font-family:Menlo,'DejaVu Sans Mono',consolas,'Courier New',monospace\"><span style=\"font-weight: bold\"> Total params: </span><span style=\"color: #00af00; text-decoration-color: #00af00\">33,601</span> (131.25 KB)\n",
              "</pre>\n"
            ]
          },
          "metadata": {}
        },
        {
          "output_type": "display_data",
          "data": {
            "text/plain": [
              "\u001b[1m Trainable params: \u001b[0m\u001b[38;5;34m33,601\u001b[0m (131.25 KB)\n"
            ],
            "text/html": [
              "<pre style=\"white-space:pre;overflow-x:auto;line-height:normal;font-family:Menlo,'DejaVu Sans Mono',consolas,'Courier New',monospace\"><span style=\"font-weight: bold\"> Trainable params: </span><span style=\"color: #00af00; text-decoration-color: #00af00\">33,601</span> (131.25 KB)\n",
              "</pre>\n"
            ]
          },
          "metadata": {}
        },
        {
          "output_type": "display_data",
          "data": {
            "text/plain": [
              "\u001b[1m Non-trainable params: \u001b[0m\u001b[38;5;34m0\u001b[0m (0.00 B)\n"
            ],
            "text/html": [
              "<pre style=\"white-space:pre;overflow-x:auto;line-height:normal;font-family:Menlo,'DejaVu Sans Mono',consolas,'Courier New',monospace\"><span style=\"font-weight: bold\"> Non-trainable params: </span><span style=\"color: #00af00; text-decoration-color: #00af00\">0</span> (0.00 B)\n",
              "</pre>\n"
            ]
          },
          "metadata": {}
        }
      ]
    },
    {
      "cell_type": "markdown",
      "source": [
        "#6. Prepare datasets for training"
      ],
      "metadata": {
        "id": "BmWX14rL2UzM"
      }
    },
    {
      "cell_type": "code",
      "source": [
        "train_dataset = tf.data.Dataset.from_tensor_slices((X_train, y_train)).batch(64).prefetch(1)\n",
        "val_dataset   = tf.data.Dataset.from_tensor_slices((X_val, y_val)).batch(64).prefetch(1)"
      ],
      "metadata": {
        "id": "wbubjjne2nWG"
      },
      "execution_count": 7,
      "outputs": []
    },
    {
      "cell_type": "markdown",
      "source": [
        "#7. Setup callbacks"
      ],
      "metadata": {
        "id": "3g4C43YM2ujF"
      }
    },
    {
      "cell_type": "code",
      "source": [
        "early_stop = EarlyStopping(\n",
        "    monitor='val_loss', patience=8, restore_best_weights=True, verbose=1\n",
        ")\n",
        "reduce_lr = ReduceLROnPlateau(\n",
        "    monitor=\"val_loss\", factor=0.5, patience=4, min_lr=1e-5, verbose=1\n",
        ")\n",
        "model_ckpt = ModelCheckpoint(\n",
        "    \"best_lstm_model.keras\",\n",
        "    save_best_only=True,\n",
        "    monitor=\"val_loss\",\n",
        "    verbose=1\n",
        ")"
      ],
      "metadata": {
        "id": "KoCBfzhd295w"
      },
      "execution_count": 8,
      "outputs": []
    },
    {
      "cell_type": "markdown",
      "source": [
        "#8. Train and compare models"
      ],
      "metadata": {
        "id": "1oBfA3ah3iyV"
      }
    },
    {
      "cell_type": "code",
      "source": [
        "history = model.fit(\n",
        "    train_dataset,\n",
        "    validation_data=val_dataset,\n",
        "    epochs=50,\n",
        "    callbacks=[early_stop, reduce_lr, model_ckpt]\n",
        ")"
      ],
      "metadata": {
        "colab": {
          "base_uri": "https://localhost:8080/"
        },
        "id": "Nv3ACZwR3uBF",
        "outputId": "5b0e40ee-6bdf-4a55-dc2e-0a96ec9939fc"
      },
      "execution_count": 10,
      "outputs": [
        {
          "output_type": "stream",
          "name": "stdout",
          "text": [
            "Epoch 1/50\n",
            "\u001b[1m221/221\u001b[0m \u001b[32m━━━━━━━━━━━━━━━━━━━━\u001b[0m\u001b[37m\u001b[0m \u001b[1m0s\u001b[0m 30ms/step - loss: 11536.4717\n",
            "Epoch 1: val_loss improved from inf to 9280.18848, saving model to best_lstm_model.keras\n",
            "\u001b[1m221/221\u001b[0m \u001b[32m━━━━━━━━━━━━━━━━━━━━\u001b[0m\u001b[37m\u001b[0m \u001b[1m10s\u001b[0m 34ms/step - loss: 11533.2949 - val_loss: 9280.1885 - learning_rate: 0.0010\n",
            "Epoch 2/50\n",
            "\u001b[1m219/221\u001b[0m \u001b[32m━━━━━━━━━━━━━━━━━━━\u001b[0m\u001b[37m━\u001b[0m \u001b[1m0s\u001b[0m 20ms/step - loss: 8902.5713\n",
            "Epoch 2: val_loss improved from 9280.18848 to 7735.69531, saving model to best_lstm_model.keras\n",
            "\u001b[1m221/221\u001b[0m \u001b[32m━━━━━━━━━━━━━━━━━━━━\u001b[0m\u001b[37m\u001b[0m \u001b[1m8s\u001b[0m 23ms/step - loss: 8898.9004 - val_loss: 7735.6953 - learning_rate: 0.0010\n",
            "Epoch 3/50\n",
            "\u001b[1m221/221\u001b[0m \u001b[32m━━━━━━━━━━━━━━━━━━━━\u001b[0m\u001b[37m\u001b[0m \u001b[1m0s\u001b[0m 29ms/step - loss: 7454.3442\n",
            "Epoch 3: val_loss improved from 7735.69531 to 6523.58740, saving model to best_lstm_model.keras\n",
            "\u001b[1m221/221\u001b[0m \u001b[32m━━━━━━━━━━━━━━━━━━━━\u001b[0m\u001b[37m\u001b[0m \u001b[1m7s\u001b[0m 31ms/step - loss: 7453.4702 - val_loss: 6523.5874 - learning_rate: 0.0010\n",
            "Epoch 4/50\n",
            "\u001b[1m219/221\u001b[0m \u001b[32m━━━━━━━━━━━━━━━━━━━\u001b[0m\u001b[37m━\u001b[0m \u001b[1m0s\u001b[0m 23ms/step - loss: 6304.5820\n",
            "Epoch 4: val_loss improved from 6523.58740 to 5534.15869, saving model to best_lstm_model.keras\n",
            "\u001b[1m221/221\u001b[0m \u001b[32m━━━━━━━━━━━━━━━━━━━━\u001b[0m\u001b[37m\u001b[0m \u001b[1m6s\u001b[0m 26ms/step - loss: 6302.5503 - val_loss: 5534.1587 - learning_rate: 0.0010\n",
            "Epoch 5/50\n",
            "\u001b[1m221/221\u001b[0m \u001b[32m━━━━━━━━━━━━━━━━━━━━\u001b[0m\u001b[37m\u001b[0m \u001b[1m0s\u001b[0m 25ms/step - loss: 5359.6284\n",
            "Epoch 5: val_loss improved from 5534.15869 to 4720.20996, saving model to best_lstm_model.keras\n",
            "\u001b[1m221/221\u001b[0m \u001b[32m━━━━━━━━━━━━━━━━━━━━\u001b[0m\u001b[37m\u001b[0m \u001b[1m7s\u001b[0m 30ms/step - loss: 5359.1216 - val_loss: 4720.2100 - learning_rate: 0.0010\n",
            "Epoch 6/50\n",
            "\u001b[1m220/221\u001b[0m \u001b[32m━━━━━━━━━━━━━━━━━━━\u001b[0m\u001b[37m━\u001b[0m \u001b[1m0s\u001b[0m 20ms/step - loss: 4582.5625\n",
            "Epoch 6: val_loss improved from 4720.20996 to 4033.33569, saving model to best_lstm_model.keras\n",
            "\u001b[1m221/221\u001b[0m \u001b[32m━━━━━━━━━━━━━━━━━━━━\u001b[0m\u001b[37m\u001b[0m \u001b[1m9s\u001b[0m 22ms/step - loss: 4581.7666 - val_loss: 4033.3357 - learning_rate: 0.0010\n",
            "Epoch 7/50\n",
            "\u001b[1m221/221\u001b[0m \u001b[32m━━━━━━━━━━━━━━━━━━━━\u001b[0m\u001b[37m\u001b[0m \u001b[1m0s\u001b[0m 27ms/step - loss: 3934.6433\n",
            "Epoch 7: val_loss improved from 4033.33569 to 3472.30444, saving model to best_lstm_model.keras\n",
            "\u001b[1m221/221\u001b[0m \u001b[32m━━━━━━━━━━━━━━━━━━━━\u001b[0m\u001b[37m\u001b[0m \u001b[1m7s\u001b[0m 30ms/step - loss: 3934.3440 - val_loss: 3472.3044 - learning_rate: 0.0010\n",
            "Epoch 8/50\n",
            "\u001b[1m219/221\u001b[0m \u001b[32m━━━━━━━━━━━━━━━━━━━\u001b[0m\u001b[37m━\u001b[0m \u001b[1m0s\u001b[0m 20ms/step - loss: 3398.4722\n",
            "Epoch 8: val_loss improved from 3472.30444 to 3005.61621, saving model to best_lstm_model.keras\n",
            "\u001b[1m221/221\u001b[0m \u001b[32m━━━━━━━━━━━━━━━━━━━━\u001b[0m\u001b[37m\u001b[0m \u001b[1m9s\u001b[0m 22ms/step - loss: 3397.7656 - val_loss: 3005.6162 - learning_rate: 0.0010\n",
            "Epoch 9/50\n",
            "\u001b[1m221/221\u001b[0m \u001b[32m━━━━━━━━━━━━━━━━━━━━\u001b[0m\u001b[37m\u001b[0m \u001b[1m0s\u001b[0m 29ms/step - loss: 2957.9739\n",
            "Epoch 9: val_loss improved from 3005.61621 to 2623.78076, saving model to best_lstm_model.keras\n",
            "\u001b[1m221/221\u001b[0m \u001b[32m━━━━━━━━━━━━━━━━━━━━\u001b[0m\u001b[37m\u001b[0m \u001b[1m7s\u001b[0m 32ms/step - loss: 2957.8015 - val_loss: 2623.7808 - learning_rate: 0.0010\n",
            "Epoch 10/50\n",
            "\u001b[1m220/221\u001b[0m \u001b[32m━━━━━━━━━━━━━━━━━━━\u001b[0m\u001b[37m━\u001b[0m \u001b[1m0s\u001b[0m 21ms/step - loss: 2596.1812\n",
            "Epoch 10: val_loss improved from 2623.78076 to 2323.86157, saving model to best_lstm_model.keras\n",
            "\u001b[1m221/221\u001b[0m \u001b[32m━━━━━━━━━━━━━━━━━━━━\u001b[0m\u001b[37m\u001b[0m \u001b[1m6s\u001b[0m 27ms/step - loss: 2595.9189 - val_loss: 2323.8616 - learning_rate: 0.0010\n",
            "Epoch 11/50\n",
            "\u001b[1m220/221\u001b[0m \u001b[32m━━━━━━━━━━━━━━━━━━━\u001b[0m\u001b[37m━\u001b[0m \u001b[1m0s\u001b[0m 23ms/step - loss: 2294.2542\n",
            "Epoch 11: val_loss improved from 2323.86157 to 2051.24902, saving model to best_lstm_model.keras\n",
            "\u001b[1m221/221\u001b[0m \u001b[32m━━━━━━━━━━━━━━━━━━━━\u001b[0m\u001b[37m\u001b[0m \u001b[1m10s\u001b[0m 26ms/step - loss: 2294.0486 - val_loss: 2051.2490 - learning_rate: 0.0010\n",
            "Epoch 12/50\n",
            "\u001b[1m219/221\u001b[0m \u001b[32m━━━━━━━━━━━━━━━━━━━\u001b[0m\u001b[37m━\u001b[0m \u001b[1m0s\u001b[0m 20ms/step - loss: 2040.7124\n",
            "Epoch 12: val_loss improved from 2051.24902 to 1842.72815, saving model to best_lstm_model.keras\n",
            "\u001b[1m221/221\u001b[0m \u001b[32m━━━━━━━━━━━━━━━━━━━━\u001b[0m\u001b[37m\u001b[0m \u001b[1m5s\u001b[0m 23ms/step - loss: 2040.5162 - val_loss: 1842.7281 - learning_rate: 0.0010\n",
            "Epoch 13/50\n",
            "\u001b[1m219/221\u001b[0m \u001b[32m━━━━━━━━━━━━━━━━━━━\u001b[0m\u001b[37m━\u001b[0m \u001b[1m0s\u001b[0m 34ms/step - loss: 1832.8741\n",
            "Epoch 13: val_loss improved from 1842.72815 to 1675.62830, saving model to best_lstm_model.keras\n",
            "\u001b[1m221/221\u001b[0m \u001b[32m━━━━━━━━━━━━━━━━━━━━\u001b[0m\u001b[37m\u001b[0m \u001b[1m8s\u001b[0m 36ms/step - loss: 1832.7544 - val_loss: 1675.6283 - learning_rate: 0.0010\n",
            "Epoch 14/50\n",
            "\u001b[1m219/221\u001b[0m \u001b[32m━━━━━━━━━━━━━━━━━━━\u001b[0m\u001b[37m━\u001b[0m \u001b[1m0s\u001b[0m 22ms/step - loss: 1660.6204\n",
            "Epoch 14: val_loss improved from 1675.62830 to 1512.37439, saving model to best_lstm_model.keras\n",
            "\u001b[1m221/221\u001b[0m \u001b[32m━━━━━━━━━━━━━━━━━━━━\u001b[0m\u001b[37m\u001b[0m \u001b[1m5s\u001b[0m 24ms/step - loss: 1660.5464 - val_loss: 1512.3744 - learning_rate: 0.0010\n",
            "Epoch 15/50\n",
            "\u001b[1m221/221\u001b[0m \u001b[32m━━━━━━━━━━━━━━━━━━━━\u001b[0m\u001b[37m\u001b[0m \u001b[1m0s\u001b[0m 28ms/step - loss: 1509.1069\n",
            "Epoch 15: val_loss improved from 1512.37439 to 1381.67944, saving model to best_lstm_model.keras\n",
            "\u001b[1m221/221\u001b[0m \u001b[32m━━━━━━━━━━━━━━━━━━━━\u001b[0m\u001b[37m\u001b[0m \u001b[1m7s\u001b[0m 33ms/step - loss: 1509.0989 - val_loss: 1381.6794 - learning_rate: 0.0010\n",
            "Epoch 16/50\n",
            "\u001b[1m219/221\u001b[0m \u001b[32m━━━━━━━━━━━━━━━━━━━\u001b[0m\u001b[37m━\u001b[0m \u001b[1m0s\u001b[0m 20ms/step - loss: 1383.3091\n",
            "Epoch 16: val_loss improved from 1381.67944 to 1259.37939, saving model to best_lstm_model.keras\n",
            "\u001b[1m221/221\u001b[0m \u001b[32m━━━━━━━━━━━━━━━━━━━━\u001b[0m\u001b[37m\u001b[0m \u001b[1m6s\u001b[0m 25ms/step - loss: 1383.3572 - val_loss: 1259.3794 - learning_rate: 0.0010\n",
            "Epoch 17/50\n",
            "\u001b[1m220/221\u001b[0m \u001b[32m━━━━━━━━━━━━━━━━━━━\u001b[0m\u001b[37m━\u001b[0m \u001b[1m0s\u001b[0m 21ms/step - loss: 1273.7129\n",
            "Epoch 17: val_loss improved from 1259.37939 to 1157.53931, saving model to best_lstm_model.keras\n",
            "\u001b[1m221/221\u001b[0m \u001b[32m━━━━━━━━━━━━━━━━━━━━\u001b[0m\u001b[37m\u001b[0m \u001b[1m6s\u001b[0m 26ms/step - loss: 1273.7594 - val_loss: 1157.5393 - learning_rate: 0.0010\n",
            "Epoch 18/50\n",
            "\u001b[1m221/221\u001b[0m \u001b[32m━━━━━━━━━━━━━━━━━━━━\u001b[0m\u001b[37m\u001b[0m \u001b[1m0s\u001b[0m 23ms/step - loss: 1186.3082\n",
            "Epoch 18: val_loss improved from 1157.53931 to 1053.56091, saving model to best_lstm_model.keras\n",
            "\u001b[1m221/221\u001b[0m \u001b[32m━━━━━━━━━━━━━━━━━━━━\u001b[0m\u001b[37m\u001b[0m \u001b[1m10s\u001b[0m 26ms/step - loss: 1186.3497 - val_loss: 1053.5609 - learning_rate: 0.0010\n",
            "Epoch 19/50\n",
            "\u001b[1m220/221\u001b[0m \u001b[32m━━━━━━━━━━━━━━━━━━━\u001b[0m\u001b[37m━\u001b[0m \u001b[1m0s\u001b[0m 31ms/step - loss: 1099.3489\n",
            "Epoch 19: val_loss improved from 1053.56091 to 994.50189, saving model to best_lstm_model.keras\n",
            "\u001b[1m221/221\u001b[0m \u001b[32m━━━━━━━━━━━━━━━━━━━━\u001b[0m\u001b[37m\u001b[0m \u001b[1m7s\u001b[0m 34ms/step - loss: 1099.2999 - val_loss: 994.5019 - learning_rate: 0.0010\n",
            "Epoch 20/50\n",
            "\u001b[1m220/221\u001b[0m \u001b[32m━━━━━━━━━━━━━━━━━━━\u001b[0m\u001b[37m━\u001b[0m \u001b[1m0s\u001b[0m 20ms/step - loss: 1019.2627\n",
            "Epoch 20: val_loss improved from 994.50189 to 933.74658, saving model to best_lstm_model.keras\n",
            "\u001b[1m221/221\u001b[0m \u001b[32m━━━━━━━━━━━━━━━━━━━━\u001b[0m\u001b[37m\u001b[0m \u001b[1m5s\u001b[0m 22ms/step - loss: 1019.1876 - val_loss: 933.7466 - learning_rate: 0.0010\n",
            "Epoch 21/50\n",
            "\u001b[1m220/221\u001b[0m \u001b[32m━━━━━━━━━━━━━━━━━━━\u001b[0m\u001b[37m━\u001b[0m \u001b[1m0s\u001b[0m 21ms/step - loss: 955.5471\n",
            "Epoch 21: val_loss improved from 933.74658 to 881.60638, saving model to best_lstm_model.keras\n",
            "\u001b[1m221/221\u001b[0m \u001b[32m━━━━━━━━━━━━━━━━━━━━\u001b[0m\u001b[37m\u001b[0m \u001b[1m6s\u001b[0m 27ms/step - loss: 955.5170 - val_loss: 881.6064 - learning_rate: 0.0010\n",
            "Epoch 22/50\n",
            "\u001b[1m221/221\u001b[0m \u001b[32m━━━━━━━━━━━━━━━━━━━━\u001b[0m\u001b[37m\u001b[0m \u001b[1m0s\u001b[0m 23ms/step - loss: 939.9939\n",
            "Epoch 22: val_loss improved from 881.60638 to 830.75073, saving model to best_lstm_model.keras\n",
            "\u001b[1m221/221\u001b[0m \u001b[32m━━━━━━━━━━━━━━━━━━━━\u001b[0m\u001b[37m\u001b[0m \u001b[1m6s\u001b[0m 26ms/step - loss: 939.9343 - val_loss: 830.7507 - learning_rate: 0.0010\n",
            "Epoch 23/50\n",
            "\u001b[1m220/221\u001b[0m \u001b[32m━━━━━━━━━━━━━━━━━━━\u001b[0m\u001b[37m━\u001b[0m \u001b[1m0s\u001b[0m 20ms/step - loss: 875.2563\n",
            "Epoch 23: val_loss improved from 830.75073 to 792.79181, saving model to best_lstm_model.keras\n",
            "\u001b[1m221/221\u001b[0m \u001b[32m━━━━━━━━━━━━━━━━━━━━\u001b[0m\u001b[37m\u001b[0m \u001b[1m5s\u001b[0m 23ms/step - loss: 875.2388 - val_loss: 792.7918 - learning_rate: 0.0010\n",
            "Epoch 24/50\n",
            "\u001b[1m221/221\u001b[0m \u001b[32m━━━━━━━━━━━━━━━━━━━━\u001b[0m\u001b[37m\u001b[0m \u001b[1m0s\u001b[0m 28ms/step - loss: 828.3406\n",
            "Epoch 24: val_loss improved from 792.79181 to 770.22284, saving model to best_lstm_model.keras\n",
            "\u001b[1m221/221\u001b[0m \u001b[32m━━━━━━━━━━━━━━━━━━━━\u001b[0m\u001b[37m\u001b[0m \u001b[1m7s\u001b[0m 31ms/step - loss: 828.3470 - val_loss: 770.2228 - learning_rate: 0.0010\n",
            "Epoch 25/50\n",
            "\u001b[1m220/221\u001b[0m \u001b[32m━━━━━━━━━━━━━━━━━━━\u001b[0m\u001b[37m━\u001b[0m \u001b[1m0s\u001b[0m 20ms/step - loss: 801.6246\n",
            "Epoch 25: val_loss improved from 770.22284 to 737.89355, saving model to best_lstm_model.keras\n",
            "\u001b[1m221/221\u001b[0m \u001b[32m━━━━━━━━━━━━━━━━━━━━\u001b[0m\u001b[37m\u001b[0m \u001b[1m8s\u001b[0m 22ms/step - loss: 801.5540 - val_loss: 737.8936 - learning_rate: 0.0010\n",
            "Epoch 26/50\n",
            "\u001b[1m221/221\u001b[0m \u001b[32m━━━━━━━━━━━━━━━━━━━━\u001b[0m\u001b[37m\u001b[0m \u001b[1m0s\u001b[0m 28ms/step - loss: 759.9493\n",
            "Epoch 26: val_loss improved from 737.89355 to 703.88617, saving model to best_lstm_model.keras\n",
            "\u001b[1m221/221\u001b[0m \u001b[32m━━━━━━━━━━━━━━━━━━━━\u001b[0m\u001b[37m\u001b[0m \u001b[1m7s\u001b[0m 31ms/step - loss: 759.9177 - val_loss: 703.8862 - learning_rate: 0.0010\n",
            "Epoch 27/50\n",
            "\u001b[1m221/221\u001b[0m \u001b[32m━━━━━━━━━━━━━━━━━━━━\u001b[0m\u001b[37m\u001b[0m \u001b[1m0s\u001b[0m 22ms/step - loss: 718.9749\n",
            "Epoch 27: val_loss improved from 703.88617 to 697.33301, saving model to best_lstm_model.keras\n",
            "\u001b[1m221/221\u001b[0m \u001b[32m━━━━━━━━━━━━━━━━━━━━\u001b[0m\u001b[37m\u001b[0m \u001b[1m10s\u001b[0m 28ms/step - loss: 718.9370 - val_loss: 697.3330 - learning_rate: 0.0010\n",
            "Epoch 28/50\n",
            "\u001b[1m220/221\u001b[0m \u001b[32m━━━━━━━━━━━━━━━━━━━\u001b[0m\u001b[37m━\u001b[0m \u001b[1m0s\u001b[0m 31ms/step - loss: 686.0773\n",
            "Epoch 28: val_loss improved from 697.33301 to 646.88794, saving model to best_lstm_model.keras\n",
            "\u001b[1m221/221\u001b[0m \u001b[32m━━━━━━━━━━━━━━━━━━━━\u001b[0m\u001b[37m\u001b[0m \u001b[1m7s\u001b[0m 33ms/step - loss: 685.9888 - val_loss: 646.8879 - learning_rate: 0.0010\n",
            "Epoch 29/50\n",
            "\u001b[1m221/221\u001b[0m \u001b[32m━━━━━━━━━━━━━━━━━━━━\u001b[0m\u001b[37m\u001b[0m \u001b[1m0s\u001b[0m 23ms/step - loss: 661.0356\n",
            "Epoch 29: val_loss improved from 646.88794 to 638.52454, saving model to best_lstm_model.keras\n",
            "\u001b[1m221/221\u001b[0m \u001b[32m━━━━━━━━━━━━━━━━━━━━\u001b[0m\u001b[37m\u001b[0m \u001b[1m6s\u001b[0m 26ms/step - loss: 660.9664 - val_loss: 638.5245 - learning_rate: 0.0010\n",
            "Epoch 30/50\n",
            "\u001b[1m220/221\u001b[0m \u001b[32m━━━━━━━━━━━━━━━━━━━\u001b[0m\u001b[37m━\u001b[0m \u001b[1m0s\u001b[0m 28ms/step - loss: 624.1536\n",
            "Epoch 30: val_loss improved from 638.52454 to 612.26678, saving model to best_lstm_model.keras\n",
            "\u001b[1m221/221\u001b[0m \u001b[32m━━━━━━━━━━━━━━━━━━━━\u001b[0m\u001b[37m\u001b[0m \u001b[1m7s\u001b[0m 30ms/step - loss: 624.0132 - val_loss: 612.2668 - learning_rate: 0.0010\n",
            "Epoch 31/50\n",
            "\u001b[1m221/221\u001b[0m \u001b[32m━━━━━━━━━━━━━━━━━━━━\u001b[0m\u001b[37m\u001b[0m \u001b[1m0s\u001b[0m 20ms/step - loss: 593.0729\n",
            "Epoch 31: val_loss improved from 612.26678 to 599.05170, saving model to best_lstm_model.keras\n",
            "\u001b[1m221/221\u001b[0m \u001b[32m━━━━━━━━━━━━━━━━━━━━\u001b[0m\u001b[37m\u001b[0m \u001b[1m5s\u001b[0m 23ms/step - loss: 593.0732 - val_loss: 599.0517 - learning_rate: 0.0010\n",
            "Epoch 32/50\n",
            "\u001b[1m220/221\u001b[0m \u001b[32m━━━━━━━━━━━━━━━━━━━\u001b[0m\u001b[37m━\u001b[0m \u001b[1m0s\u001b[0m 27ms/step - loss: 571.2296\n",
            "Epoch 32: val_loss improved from 599.05170 to 553.58716, saving model to best_lstm_model.keras\n",
            "\u001b[1m221/221\u001b[0m \u001b[32m━━━━━━━━━━━━━━━━━━━━\u001b[0m\u001b[37m\u001b[0m \u001b[1m7s\u001b[0m 30ms/step - loss: 571.1441 - val_loss: 553.5872 - learning_rate: 0.0010\n",
            "Epoch 33/50\n",
            "\u001b[1m221/221\u001b[0m \u001b[32m━━━━━━━━━━━━━━━━━━━━\u001b[0m\u001b[37m\u001b[0m \u001b[1m0s\u001b[0m 21ms/step - loss: 540.2983\n",
            "Epoch 33: val_loss improved from 553.58716 to 521.32233, saving model to best_lstm_model.keras\n",
            "\u001b[1m221/221\u001b[0m \u001b[32m━━━━━━━━━━━━━━━━━━━━\u001b[0m\u001b[37m\u001b[0m \u001b[1m9s\u001b[0m 24ms/step - loss: 540.2488 - val_loss: 521.3223 - learning_rate: 0.0010\n",
            "Epoch 34/50\n",
            "\u001b[1m220/221\u001b[0m \u001b[32m━━━━━━━━━━━━━━━━━━━\u001b[0m\u001b[37m━\u001b[0m \u001b[1m0s\u001b[0m 31ms/step - loss: 520.6215\n",
            "Epoch 34: val_loss did not improve from 521.32233\n",
            "\u001b[1m221/221\u001b[0m \u001b[32m━━━━━━━━━━━━━━━━━━━━\u001b[0m\u001b[37m\u001b[0m \u001b[1m7s\u001b[0m 33ms/step - loss: 520.5699 - val_loss: 527.9185 - learning_rate: 0.0010\n",
            "Epoch 35/50\n",
            "\u001b[1m219/221\u001b[0m \u001b[32m━━━━━━━━━━━━━━━━━━━\u001b[0m\u001b[37m━\u001b[0m \u001b[1m0s\u001b[0m 20ms/step - loss: 480.1883\n",
            "Epoch 35: val_loss improved from 521.32233 to 469.39987, saving model to best_lstm_model.keras\n",
            "\u001b[1m221/221\u001b[0m \u001b[32m━━━━━━━━━━━━━━━━━━━━\u001b[0m\u001b[37m\u001b[0m \u001b[1m5s\u001b[0m 23ms/step - loss: 480.0338 - val_loss: 469.3999 - learning_rate: 0.0010\n",
            "Epoch 36/50\n",
            "\u001b[1m219/221\u001b[0m \u001b[32m━━━━━━━━━━━━━━━━━━━\u001b[0m\u001b[37m━\u001b[0m \u001b[1m0s\u001b[0m 29ms/step - loss: 454.6368\n",
            "Epoch 36: val_loss improved from 469.39987 to 434.52631, saving model to best_lstm_model.keras\n",
            "\u001b[1m221/221\u001b[0m \u001b[32m━━━━━━━━━━━━━━━━━━━━\u001b[0m\u001b[37m\u001b[0m \u001b[1m12s\u001b[0m 32ms/step - loss: 454.4989 - val_loss: 434.5263 - learning_rate: 0.0010\n",
            "Epoch 37/50\n",
            "\u001b[1m221/221\u001b[0m \u001b[32m━━━━━━━━━━━━━━━━━━━━\u001b[0m\u001b[37m\u001b[0m \u001b[1m0s\u001b[0m 26ms/step - loss: 411.9082\n",
            "Epoch 37: val_loss improved from 434.52631 to 423.08679, saving model to best_lstm_model.keras\n",
            "\u001b[1m221/221\u001b[0m \u001b[32m━━━━━━━━━━━━━━━━━━━━\u001b[0m\u001b[37m\u001b[0m \u001b[1m10s\u001b[0m 32ms/step - loss: 411.8898 - val_loss: 423.0868 - learning_rate: 0.0010\n",
            "Epoch 38/50\n",
            "\u001b[1m221/221\u001b[0m \u001b[32m━━━━━━━━━━━━━━━━━━━━\u001b[0m\u001b[37m\u001b[0m \u001b[1m0s\u001b[0m 20ms/step - loss: 386.6051\n",
            "Epoch 38: val_loss improved from 423.08679 to 390.10654, saving model to best_lstm_model.keras\n",
            "\u001b[1m221/221\u001b[0m \u001b[32m━━━━━━━━━━━━━━━━━━━━\u001b[0m\u001b[37m\u001b[0m \u001b[1m8s\u001b[0m 23ms/step - loss: 386.6266 - val_loss: 390.1065 - learning_rate: 0.0010\n",
            "Epoch 39/50\n",
            "\u001b[1m220/221\u001b[0m \u001b[32m━━━━━━━━━━━━━━━━━━━\u001b[0m\u001b[37m━\u001b[0m \u001b[1m0s\u001b[0m 29ms/step - loss: 366.1042\n",
            "Epoch 39: val_loss improved from 390.10654 to 380.28809, saving model to best_lstm_model.keras\n",
            "\u001b[1m221/221\u001b[0m \u001b[32m━━━━━━━━━━━━━━━━━━━━\u001b[0m\u001b[37m\u001b[0m \u001b[1m7s\u001b[0m 31ms/step - loss: 366.0123 - val_loss: 380.2881 - learning_rate: 0.0010\n",
            "Epoch 40/50\n",
            "\u001b[1m221/221\u001b[0m \u001b[32m━━━━━━━━━━━━━━━━━━━━\u001b[0m\u001b[37m\u001b[0m \u001b[1m0s\u001b[0m 22ms/step - loss: 337.9298\n",
            "Epoch 40: val_loss did not improve from 380.28809\n",
            "\u001b[1m221/221\u001b[0m \u001b[32m━━━━━━━━━━━━━━━━━━━━\u001b[0m\u001b[37m\u001b[0m \u001b[1m5s\u001b[0m 24ms/step - loss: 337.8817 - val_loss: 384.9500 - learning_rate: 0.0010\n",
            "Epoch 41/50\n",
            "\u001b[1m221/221\u001b[0m \u001b[32m━━━━━━━━━━━━━━━━━━━━\u001b[0m\u001b[37m\u001b[0m \u001b[1m0s\u001b[0m 23ms/step - loss: 334.4693\n",
            "Epoch 41: val_loss improved from 380.28809 to 377.07315, saving model to best_lstm_model.keras\n",
            "\u001b[1m221/221\u001b[0m \u001b[32m━━━━━━━━━━━━━━━━━━━━\u001b[0m\u001b[37m\u001b[0m \u001b[1m6s\u001b[0m 29ms/step - loss: 334.4237 - val_loss: 377.0732 - learning_rate: 0.0010\n",
            "Epoch 42/50\n",
            "\u001b[1m221/221\u001b[0m \u001b[32m━━━━━━━━━━━━━━━━━━━━\u001b[0m\u001b[37m\u001b[0m \u001b[1m0s\u001b[0m 25ms/step - loss: 310.2564\n",
            "Epoch 42: val_loss improved from 377.07315 to 329.20291, saving model to best_lstm_model.keras\n",
            "\u001b[1m221/221\u001b[0m \u001b[32m━━━━━━━━━━━━━━━━━━━━\u001b[0m\u001b[37m\u001b[0m \u001b[1m6s\u001b[0m 28ms/step - loss: 310.1749 - val_loss: 329.2029 - learning_rate: 0.0010\n",
            "Epoch 43/50\n",
            "\u001b[1m221/221\u001b[0m \u001b[32m━━━━━━━━━━━━━━━━━━━━\u001b[0m\u001b[37m\u001b[0m \u001b[1m0s\u001b[0m 32ms/step - loss: 273.5834\n",
            "Epoch 43: val_loss improved from 329.20291 to 276.61237, saving model to best_lstm_model.keras\n",
            "\u001b[1m221/221\u001b[0m \u001b[32m━━━━━━━━━━━━━━━━━━━━\u001b[0m\u001b[37m\u001b[0m \u001b[1m12s\u001b[0m 34ms/step - loss: 273.5491 - val_loss: 276.6124 - learning_rate: 0.0010\n",
            "Epoch 44/50\n",
            "\u001b[1m219/221\u001b[0m \u001b[32m━━━━━━━━━━━━━━━━━━━\u001b[0m\u001b[37m━\u001b[0m \u001b[1m0s\u001b[0m 23ms/step - loss: 282.4164\n",
            "Epoch 44: val_loss did not improve from 276.61237\n",
            "\u001b[1m221/221\u001b[0m \u001b[32m━━━━━━━━━━━━━━━━━━━━\u001b[0m\u001b[37m\u001b[0m \u001b[1m8s\u001b[0m 25ms/step - loss: 282.4871 - val_loss: 315.8395 - learning_rate: 0.0010\n",
            "Epoch 45/50\n",
            "\u001b[1m221/221\u001b[0m \u001b[32m━━━━━━━━━━━━━━━━━━━━\u001b[0m\u001b[37m\u001b[0m \u001b[1m0s\u001b[0m 30ms/step - loss: 244.4677\n",
            "Epoch 45: val_loss improved from 276.61237 to 245.16870, saving model to best_lstm_model.keras\n",
            "\u001b[1m221/221\u001b[0m \u001b[32m━━━━━━━━━━━━━━━━━━━━\u001b[0m\u001b[37m\u001b[0m \u001b[1m7s\u001b[0m 33ms/step - loss: 244.5311 - val_loss: 245.1687 - learning_rate: 0.0010\n",
            "Epoch 46/50\n",
            "\u001b[1m219/221\u001b[0m \u001b[32m━━━━━━━━━━━━━━━━━━━\u001b[0m\u001b[37m━\u001b[0m \u001b[1m0s\u001b[0m 20ms/step - loss: 213.6925\n",
            "Epoch 46: val_loss improved from 245.16870 to 219.41803, saving model to best_lstm_model.keras\n",
            "\u001b[1m221/221\u001b[0m \u001b[32m━━━━━━━━━━━━━━━━━━━━\u001b[0m\u001b[37m\u001b[0m \u001b[1m5s\u001b[0m 23ms/step - loss: 213.6314 - val_loss: 219.4180 - learning_rate: 0.0010\n",
            "Epoch 47/50\n",
            "\u001b[1m221/221\u001b[0m \u001b[32m━━━━━━━━━━━━━━━━━━━━\u001b[0m\u001b[37m\u001b[0m \u001b[1m0s\u001b[0m 25ms/step - loss: 189.7549\n",
            "Epoch 47: val_loss did not improve from 219.41803\n",
            "\u001b[1m221/221\u001b[0m \u001b[32m━━━━━━━━━━━━━━━━━━━━\u001b[0m\u001b[37m\u001b[0m \u001b[1m7s\u001b[0m 31ms/step - loss: 189.7286 - val_loss: 224.1579 - learning_rate: 0.0010\n",
            "Epoch 48/50\n",
            "\u001b[1m221/221\u001b[0m \u001b[32m━━━━━━━━━━━━━━━━━━━━\u001b[0m\u001b[37m\u001b[0m \u001b[1m0s\u001b[0m 22ms/step - loss: 177.2083\n",
            "Epoch 48: val_loss improved from 219.41803 to 201.26526, saving model to best_lstm_model.keras\n",
            "\u001b[1m221/221\u001b[0m \u001b[32m━━━━━━━━━━━━━━━━━━━━\u001b[0m\u001b[37m\u001b[0m \u001b[1m9s\u001b[0m 24ms/step - loss: 177.1935 - val_loss: 201.2653 - learning_rate: 0.0010\n",
            "Epoch 49/50\n",
            "\u001b[1m220/221\u001b[0m \u001b[32m━━━━━━━━━━━━━━━━━━━\u001b[0m\u001b[37m━\u001b[0m \u001b[1m0s\u001b[0m 28ms/step - loss: 171.6806\n",
            "Epoch 49: val_loss improved from 201.26526 to 174.87354, saving model to best_lstm_model.keras\n",
            "\u001b[1m221/221\u001b[0m \u001b[32m━━━━━━━━━━━━━━━━━━━━\u001b[0m\u001b[37m\u001b[0m \u001b[1m7s\u001b[0m 31ms/step - loss: 171.5906 - val_loss: 174.8735 - learning_rate: 0.0010\n",
            "Epoch 50/50\n",
            "\u001b[1m220/221\u001b[0m \u001b[32m━━━━━━━━━━━━━━━━━━━\u001b[0m\u001b[37m━\u001b[0m \u001b[1m0s\u001b[0m 20ms/step - loss: 186.5858\n",
            "Epoch 50: val_loss improved from 174.87354 to 169.78922, saving model to best_lstm_model.keras\n",
            "\u001b[1m221/221\u001b[0m \u001b[32m━━━━━━━━━━━━━━━━━━━━\u001b[0m\u001b[37m\u001b[0m \u001b[1m8s\u001b[0m 23ms/step - loss: 186.4779 - val_loss: 169.7892 - learning_rate: 0.0010\n",
            "Restoring model weights from the end of the best epoch: 50.\n"
          ]
        }
      ]
    },
    {
      "cell_type": "markdown",
      "source": [
        "#9. Plot training and validation loss curve function"
      ],
      "metadata": {
        "id": "7aPt4Els4B8K"
      }
    },
    {
      "cell_type": "code",
      "source": [
        "# Plot training and validation\n",
        "plt.figure(figsize=(8, 5))\n",
        "plt.plot(history.history[\"loss\"], label=\"Training\")\n",
        "plt.plot(history.history[\"val_loss\"], label=\"Validation\")\n",
        "plt.xlabel(\"Epochs\")\n",
        "plt.ylabel(\"Loss (MSE)\")\n",
        "plt.title(\"Model Loss Curve\")\n",
        "plt.legend()\n",
        "plt.show()"
      ],
      "metadata": {
        "colab": {
          "base_uri": "https://localhost:8080/",
          "height": 487
        },
        "id": "CkelD7rX4F6x",
        "outputId": "d06967e7-b3a4-4542-890a-ad000be1c65c"
      },
      "execution_count": 11,
      "outputs": [
        {
          "output_type": "display_data",
          "data": {
            "text/plain": [
              "<Figure size 800x500 with 1 Axes>"
            ],
            "image/png": "[encoded data removed]"
          },
          "metadata": {}
        }
      ]
    },
    {
      "cell_type": "markdown",
      "source": [
        "#10. Provide Final Report of this Experiement."
      ],
      "metadata": {
        "id": "dO7-B_Fa4Z_S"
      }
    },
    {
      "cell_type": "markdown",
      "source": [
        "### LSTM Model Training Summary\n",
        "\n",
        "Built a regression model for RUL prediction using:\n",
        "\n",
        "* LSTM layer with 64 units and tanh activation.\n",
        "\n",
        "* Dense output layer to produce the final RUL value.\n",
        "\n",
        " The model was compiled using the Adam optimizer with a learning rate of 0.001 and MSE loss.\n",
        "\n",
        "* Training utilized three key callbacks:\n",
        "\n",
        "* **EarlyStopping** (patience = 8) → stops training early if validation loss doesn’t improve.\n",
        "\n",
        "* **ReduceLROnPlateau** (factor = 0.5, patience = 4) → lowers learning rate when validation loss stagnates.\n",
        "\n",
        "* **ModelCheckpoint** → stores the best-performing model in best_lstm_model.keras.\n",
        "\n",
        "Model was trained for 50 epochs with a batch size of 64.\n",
        "\n",
        "Training and validation curves showed consistent decline in loss, suggesting that the model learned effectively without severe overfitting.\n",
        "\n",
        "## Model Performance\n",
        "* The training and validation loss curves confirm the model's ability to learn temporal dependencies and generalize well.\n",
        "\n",
        "* The best model checkpoint was saved for downstream evaluation and deployment."
      ],
      "metadata": {
        "id": "DTFWPA7E4p1d"
      }
    }
  ]
}